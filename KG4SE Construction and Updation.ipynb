{
 "cells": [
  {
   "cell_type": "code",
   "execution_count": null,
   "metadata": {},
   "outputs": [],
   "source": [
    "import pandas as pd\n",
    "import py2neo\n",
    "from py2neo import Graph, Node\n",
    "graph = Graph(password=\"neo4j1\")\n",
    "\n",
    "import pandas as pd\n",
    "import sqlite3\n",
    "import pdfkit as pdf\n",
    "from PyPDF2 import PdfFileMerger"
   ]
  },
  {
   "cell_type": "code",
   "execution_count": null,
   "metadata": {},
   "outputs": [],
   "source": [
    "df = pd.read_csv('C:\\\\Users\\\\MEI3KOR\\\\Desktop\\\\ccent.csv')\n",
    "df = df.fillna(' ')\n",
    "df = df.drop_duplicates()"
   ]
  },
  {
   "cell_type": "code",
   "execution_count": null,
   "metadata": {},
   "outputs": [],
   "source": [
    "ErrorMessages = []\n",
    "for row in df.iterrows():\n",
    "    sourcename     = row[1][0]\n",
    "    sourceclass    = row[1][1]\n",
    "    preconditions  = row[1][2]\n",
    "    postconditions = row[1][3]\n",
    "    valuerange     = row[1][4]\n",
    "    constraints    = row[1][5]\n",
    "    states         = row[1][6]\n",
    "    defaultstate   = row[1][7]\n",
    "    attributes     = row[1][8]\n",
    "    \n",
    "    x = \"MATCH (source:\" + sourceclass + \" {name:\" +\"'\"+ sourcename+\"'\" + \"}) RETURN source.name\"\n",
    "    xexist = graph.run(x)\n",
    "    lenx = len(list(xexist))\n",
    "    if lenx > 0:\n",
    "        if lenx > 1:\n",
    "            Message = \"Entity:\" +sourcename+' '+ \"with Entity Class:\"+sourceclass +' '+\"has duplicate nodes in Knowledge Base\"\n",
    "        else:\n",
    "            Message = \"Entity:\" +sourcename+' '+ \"with Entity Class:\"+sourceclass +' '+\"exist in Knowledge Base\"\n",
    "    else:\n",
    "#     if len(list(xexist)) == 0:\n",
    "            x = \"CREATE (n:\"+ sourceclass +\"{name:\"+\"'\"+sourcename+\"',\"+\"preconditions:\"+\"'\"+preconditions+\"',\"+\"postconditions:\"+\"'\"+postconditions+\"',\"+\"valuerange:\"+\"'\"+valuerange+\"',\"+\"constraints:\"+\"'\"+constraints+\"',\"+\"states:\"+\"'\"+states+\"',\"+\"defaultstate:\"+\"'\"+defaultstate+\"',\"+\"attributes:\"+\"'\"+attributes+\"'})\"\n",
    "            xcreate = graph.run(x)\n",
    "            Message = \"Entity:\" +sourcename+' '+ \"with Entity Class:\"+sourceclass +' '+\"created in Knowledge Base\"\n",
    "    ErrorMessages.append(Message)    \n",
    "\n",
    "Messagedf = pd.DataFrame(ErrorMessages, columns=['Error Messages'])\n",
    "if len(Messagedf.index) > 0:\n",
    "    path_wkhtmltopdf = b'C:\\\\Program Files\\\\wkhtmltopdf\\\\bin\\\\wkhtmltopdf.exe'\n",
    "    config = pdf.configuration(wkhtmltopdf=path_wkhtmltopdf)\n",
    "    old_width = pd.get_option('display.max_colwidth')\n",
    "    pd.set_option('display.max_colwidth', -1)\n",
    "    Messagedf.to_html('C:\\\\Users\\\\MEI3KOR\\\\Desktop\\\\ht.html')\n",
    "    pd.set_option('display.max_colwidth', old_width)\n",
    "    pdf.from_file('C:\\\\Users\\\\MEI3KOR\\\\Desktop\\\\ht.html', 'C:\\\\Users\\\\MEI3KOR\\\\Desktop\\\\ErrorMessages.pdf', configuration=config)\n",
    "\n",
    "\n",
    "    "
   ]
  },
  {
   "cell_type": "code",
   "execution_count": null,
   "metadata": {},
   "outputs": [],
   "source": [
    "df = pd.read_csv('C:\\\\Users\\\\MEI3KOR\\\\Desktop\\\\one2.csv')"
   ]
  },
  {
   "cell_type": "code",
   "execution_count": null,
   "metadata": {},
   "outputs": [],
   "source": [
    "for row in df.iterrows():\n",
    "    sourcename    = row[1][0]\n",
    "    targetname    = row[1][4]\n",
    "    sourceclass   = row[1][1]\n",
    "    targetclass   = row[1][5]\n",
    "    relationname  = row[1][2]\n",
    "    relationclass = row[1][3]\n",
    "    propertyrc    = row[1][6]\n",
    "    propertyr     = row[1][7]\n",
    "    \n",
    "    x1 = \"MATCH (n)-[r:\"+relationclass+\"{relation:\"+\"'\"+relationname+\"'\"+\"}]->(m) return r\" \n",
    "    x2 = \"MATCH (n:\"+sourceclass+\")-[r:\"+relationclass+\"{relation:\"+\"'\"+relationname+\"'\"+\"}]->(m:\"+targetclass+\") return r\"\n",
    "    x3 = \"MATCH (n:\"+sourceclass+\"{name:\"+\"'\"+sourcename+\"'\"+\"})-[r:\"+relationclass+\"{relation:\"+\"'\"+relationname+\"'\"+\"}]->(m:\"+targetclass+\"{name:\"+\"'\"+targetname+\"'\"+\"}) return r\" \n",
    "    s3 = \"MATCH (n:\"+sourceclass+\"{name:\"+\"'\"+sourcename+\"'\"+\"})-[r:\"+relationclass+\"{relation:\"+\"'\"+relationname+\"'\"+\"}]->(m:\"+targetclass+\"{name:\"+\"'\"+targetname+\"'\"+\"}) set r.propertyrc =\"+\"'\"+propertyrc+\"'\"+\",r.propertyr=\"+\"'\"+propertyr+\"'\" \n",
    "    s4 = \"MATCH (n:\"+sourceclass+\")-[r:\"+relationclass+\"{relation:\"+\"'\"+relationname+\"'\"+\"}]->(m:\"+targetclass+\") set r.propertyrc =\"+\"'\"+propertyrc+\"'\"\n",
    "    \n",
    "    resultx1 = graph.run(x1)\n",
    "    if len(list(resultx1)) > 0:\n",
    "        resultx2 = graph.run(x2)\n",
    "        if len(list(resultx2)) > 0:\n",
    "            resultx3 = graph.run(x3) \n",
    "            if len(list(resultx3)) > 0:\n",
    "                 updater = graph.run(s3)\n",
    "            else:\n",
    "                 updaterc = graph.run(s4)\n",
    "        "
   ]
  }
 ],
 "metadata": {
  "kernelspec": {
   "display_name": "Python 3",
   "language": "python",
   "name": "python3"
  },
  "language_info": {
   "codemirror_mode": {
    "name": "ipython",
    "version": 3
   },
   "file_extension": ".py",
   "mimetype": "text/x-python",
   "name": "python",
   "nbconvert_exporter": "python",
   "pygments_lexer": "ipython3",
   "version": "3.7.0"
  }
 },
 "nbformat": 4,
 "nbformat_minor": 2
}
